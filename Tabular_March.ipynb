{
 "cells": [
  {
   "cell_type": "markdown",
   "metadata": {},
   "source": [
    "# Tabular Playground Series - Mar 2021 competition."
   ]
  },
  {
   "cell_type": "markdown",
   "metadata": {},
   "source": [
    "### Importing Libraries"
   ]
  },
  {
   "cell_type": "code",
   "execution_count": 43,
   "metadata": {},
   "outputs": [],
   "source": [
    "import pandas as pd\n",
    "import numpy as np\n",
    "import matplotlib.pyplot as plt\n",
    "import seaborn as sns\n",
    "%matplotlib inline\n",
    "plt.style.use('ggplot')\n",
    "\n",
    "from sklearn.model_selection import train_test_split\n",
    "from sklearn.metrics import roc_auc_score\n",
    "from sklearn.preprocessing import LabelEncoder"
   ]
  },
  {
   "cell_type": "markdown",
   "metadata": {},
   "source": [
    "### Reading Files from zipped archieve"
   ]
  },
  {
   "cell_type": "code",
   "execution_count": 71,
   "metadata": {},
   "outputs": [],
   "source": [
    "from zipfile import ZipFile, Path\n",
    "\n",
    "# pass in the specific file name \n",
    "# to the open method\n",
    "with ZipFile(\"tabular-playground-series-mar-2021.zip\") as myzip:\n",
    "    train = myzip.open(\"train.csv\")\n",
    "    test = myzip.open(\"test.csv\")\n",
    "    submission = myzip.open(\"sample_submission.csv\")\n",
    "\n",
    "#Now, we can read in the data\n",
    "train = pd.read_csv(train, index_col='id')\n",
    "test = pd.read_csv(test, index_col='id')\n",
    "submission = pd.read_csv(submission, index_col='id')"
   ]
  },
  {
   "cell_type": "markdown",
   "metadata": {},
   "source": [
    "### Exploring Dataset"
   ]
  },
  {
   "cell_type": "code",
   "execution_count": 32,
   "metadata": {},
   "outputs": [
    {
     "data": {
      "text/html": [
       "<div>\n",
       "<style scoped>\n",
       "    .dataframe tbody tr th:only-of-type {\n",
       "        vertical-align: middle;\n",
       "    }\n",
       "\n",
       "    .dataframe tbody tr th {\n",
       "        vertical-align: top;\n",
       "    }\n",
       "\n",
       "    .dataframe thead th {\n",
       "        text-align: right;\n",
       "    }\n",
       "</style>\n",
       "<table border=\"1\" class=\"dataframe\">\n",
       "  <thead>\n",
       "    <tr style=\"text-align: right;\">\n",
       "      <th></th>\n",
       "      <th>cat0</th>\n",
       "      <th>cat1</th>\n",
       "      <th>cat2</th>\n",
       "      <th>cat3</th>\n",
       "      <th>cat4</th>\n",
       "      <th>cat5</th>\n",
       "      <th>cat6</th>\n",
       "      <th>cat7</th>\n",
       "      <th>cat8</th>\n",
       "      <th>cat9</th>\n",
       "      <th>...</th>\n",
       "      <th>cont2</th>\n",
       "      <th>cont3</th>\n",
       "      <th>cont4</th>\n",
       "      <th>cont5</th>\n",
       "      <th>cont6</th>\n",
       "      <th>cont7</th>\n",
       "      <th>cont8</th>\n",
       "      <th>cont9</th>\n",
       "      <th>cont10</th>\n",
       "      <th>target</th>\n",
       "    </tr>\n",
       "    <tr>\n",
       "      <th>id</th>\n",
       "      <th></th>\n",
       "      <th></th>\n",
       "      <th></th>\n",
       "      <th></th>\n",
       "      <th></th>\n",
       "      <th></th>\n",
       "      <th></th>\n",
       "      <th></th>\n",
       "      <th></th>\n",
       "      <th></th>\n",
       "      <th></th>\n",
       "      <th></th>\n",
       "      <th></th>\n",
       "      <th></th>\n",
       "      <th></th>\n",
       "      <th></th>\n",
       "      <th></th>\n",
       "      <th></th>\n",
       "      <th></th>\n",
       "      <th></th>\n",
       "      <th></th>\n",
       "    </tr>\n",
       "  </thead>\n",
       "  <tbody>\n",
       "    <tr>\n",
       "      <th>0</th>\n",
       "      <td>A</td>\n",
       "      <td>I</td>\n",
       "      <td>A</td>\n",
       "      <td>B</td>\n",
       "      <td>B</td>\n",
       "      <td>BI</td>\n",
       "      <td>A</td>\n",
       "      <td>S</td>\n",
       "      <td>Q</td>\n",
       "      <td>A</td>\n",
       "      <td>...</td>\n",
       "      <td>0.759439</td>\n",
       "      <td>0.795549</td>\n",
       "      <td>0.681917</td>\n",
       "      <td>0.621672</td>\n",
       "      <td>0.592184</td>\n",
       "      <td>0.791921</td>\n",
       "      <td>0.815254</td>\n",
       "      <td>0.965006</td>\n",
       "      <td>0.665915</td>\n",
       "      <td>0</td>\n",
       "    </tr>\n",
       "    <tr>\n",
       "      <th>1</th>\n",
       "      <td>A</td>\n",
       "      <td>I</td>\n",
       "      <td>A</td>\n",
       "      <td>A</td>\n",
       "      <td>E</td>\n",
       "      <td>BI</td>\n",
       "      <td>K</td>\n",
       "      <td>W</td>\n",
       "      <td>AD</td>\n",
       "      <td>F</td>\n",
       "      <td>...</td>\n",
       "      <td>0.386385</td>\n",
       "      <td>0.541366</td>\n",
       "      <td>0.388982</td>\n",
       "      <td>0.357778</td>\n",
       "      <td>0.600044</td>\n",
       "      <td>0.408701</td>\n",
       "      <td>0.399353</td>\n",
       "      <td>0.927406</td>\n",
       "      <td>0.493729</td>\n",
       "      <td>0</td>\n",
       "    </tr>\n",
       "    <tr>\n",
       "      <th>2</th>\n",
       "      <td>A</td>\n",
       "      <td>K</td>\n",
       "      <td>A</td>\n",
       "      <td>A</td>\n",
       "      <td>E</td>\n",
       "      <td>BI</td>\n",
       "      <td>A</td>\n",
       "      <td>E</td>\n",
       "      <td>BM</td>\n",
       "      <td>L</td>\n",
       "      <td>...</td>\n",
       "      <td>0.343255</td>\n",
       "      <td>0.616352</td>\n",
       "      <td>0.793687</td>\n",
       "      <td>0.552877</td>\n",
       "      <td>0.352113</td>\n",
       "      <td>0.388835</td>\n",
       "      <td>0.412303</td>\n",
       "      <td>0.292696</td>\n",
       "      <td>0.549452</td>\n",
       "      <td>0</td>\n",
       "    </tr>\n",
       "    <tr>\n",
       "      <th>3</th>\n",
       "      <td>A</td>\n",
       "      <td>K</td>\n",
       "      <td>A</td>\n",
       "      <td>C</td>\n",
       "      <td>E</td>\n",
       "      <td>BI</td>\n",
       "      <td>A</td>\n",
       "      <td>Y</td>\n",
       "      <td>AD</td>\n",
       "      <td>F</td>\n",
       "      <td>...</td>\n",
       "      <td>0.831147</td>\n",
       "      <td>0.807807</td>\n",
       "      <td>0.800032</td>\n",
       "      <td>0.619147</td>\n",
       "      <td>0.221789</td>\n",
       "      <td>0.897617</td>\n",
       "      <td>0.633669</td>\n",
       "      <td>0.760318</td>\n",
       "      <td>0.934242</td>\n",
       "      <td>0</td>\n",
       "    </tr>\n",
       "    <tr>\n",
       "      <th>4</th>\n",
       "      <td>A</td>\n",
       "      <td>I</td>\n",
       "      <td>G</td>\n",
       "      <td>B</td>\n",
       "      <td>E</td>\n",
       "      <td>BI</td>\n",
       "      <td>C</td>\n",
       "      <td>G</td>\n",
       "      <td>Q</td>\n",
       "      <td>A</td>\n",
       "      <td>...</td>\n",
       "      <td>0.338818</td>\n",
       "      <td>0.277308</td>\n",
       "      <td>0.610578</td>\n",
       "      <td>0.128291</td>\n",
       "      <td>0.578764</td>\n",
       "      <td>0.279167</td>\n",
       "      <td>0.351103</td>\n",
       "      <td>0.357084</td>\n",
       "      <td>0.328960</td>\n",
       "      <td>1</td>\n",
       "    </tr>\n",
       "  </tbody>\n",
       "</table>\n",
       "<p>5 rows × 31 columns</p>\n",
       "</div>"
      ],
      "text/plain": [
       "   cat0 cat1 cat2 cat3 cat4 cat5 cat6 cat7 cat8 cat9  ...     cont2     cont3  \\\n",
       "id                                                    ...                       \n",
       "0     A    I    A    B    B   BI    A    S    Q    A  ...  0.759439  0.795549   \n",
       "1     A    I    A    A    E   BI    K    W   AD    F  ...  0.386385  0.541366   \n",
       "2     A    K    A    A    E   BI    A    E   BM    L  ...  0.343255  0.616352   \n",
       "3     A    K    A    C    E   BI    A    Y   AD    F  ...  0.831147  0.807807   \n",
       "4     A    I    G    B    E   BI    C    G    Q    A  ...  0.338818  0.277308   \n",
       "\n",
       "       cont4     cont5     cont6     cont7     cont8     cont9    cont10  \\\n",
       "id                                                                         \n",
       "0   0.681917  0.621672  0.592184  0.791921  0.815254  0.965006  0.665915   \n",
       "1   0.388982  0.357778  0.600044  0.408701  0.399353  0.927406  0.493729   \n",
       "2   0.793687  0.552877  0.352113  0.388835  0.412303  0.292696  0.549452   \n",
       "3   0.800032  0.619147  0.221789  0.897617  0.633669  0.760318  0.934242   \n",
       "4   0.610578  0.128291  0.578764  0.279167  0.351103  0.357084  0.328960   \n",
       "\n",
       "    target  \n",
       "id          \n",
       "0        0  \n",
       "1        0  \n",
       "2        0  \n",
       "3        0  \n",
       "4        1  \n",
       "\n",
       "[5 rows x 31 columns]"
      ]
     },
     "execution_count": 32,
     "metadata": {},
     "output_type": "execute_result"
    }
   ],
   "source": [
    "train.head()"
   ]
  },
  {
   "cell_type": "code",
   "execution_count": 34,
   "metadata": {},
   "outputs": [
    {
     "name": "stdout",
     "output_type": "stream",
     "text": [
      "<class 'pandas.core.frame.DataFrame'>\n",
      "Int64Index: 300000 entries, 0 to 499999\n",
      "Data columns (total 31 columns):\n",
      " #   Column  Non-Null Count   Dtype  \n",
      "---  ------  --------------   -----  \n",
      " 0   cat0    300000 non-null  object \n",
      " 1   cat1    300000 non-null  object \n",
      " 2   cat2    300000 non-null  object \n",
      " 3   cat3    300000 non-null  object \n",
      " 4   cat4    300000 non-null  object \n",
      " 5   cat5    300000 non-null  object \n",
      " 6   cat6    300000 non-null  object \n",
      " 7   cat7    300000 non-null  object \n",
      " 8   cat8    300000 non-null  object \n",
      " 9   cat9    300000 non-null  object \n",
      " 10  cat10   300000 non-null  object \n",
      " 11  cat11   300000 non-null  object \n",
      " 12  cat12   300000 non-null  object \n",
      " 13  cat13   300000 non-null  object \n",
      " 14  cat14   300000 non-null  object \n",
      " 15  cat15   300000 non-null  object \n",
      " 16  cat16   300000 non-null  object \n",
      " 17  cat17   300000 non-null  object \n",
      " 18  cat18   300000 non-null  object \n",
      " 19  cont0   300000 non-null  float64\n",
      " 20  cont1   300000 non-null  float64\n",
      " 21  cont2   300000 non-null  float64\n",
      " 22  cont3   300000 non-null  float64\n",
      " 23  cont4   300000 non-null  float64\n",
      " 24  cont5   300000 non-null  float64\n",
      " 25  cont6   300000 non-null  float64\n",
      " 26  cont7   300000 non-null  float64\n",
      " 27  cont8   300000 non-null  float64\n",
      " 28  cont9   300000 non-null  float64\n",
      " 29  cont10  300000 non-null  float64\n",
      " 30  target  300000 non-null  int64  \n",
      "dtypes: float64(11), int64(1), object(19)\n",
      "memory usage: 73.2+ MB\n"
     ]
    }
   ],
   "source": [
    "train.info()"
   ]
  },
  {
   "cell_type": "code",
   "execution_count": 35,
   "metadata": {},
   "outputs": [
    {
     "data": {
      "text/plain": [
       "(300000, 31)"
      ]
     },
     "execution_count": 35,
     "metadata": {},
     "output_type": "execute_result"
    }
   ],
   "source": [
    "train.shape"
   ]
  },
  {
   "cell_type": "code",
   "execution_count": 37,
   "metadata": {},
   "outputs": [
    {
     "data": {
      "text/html": [
       "<div>\n",
       "<style scoped>\n",
       "    .dataframe tbody tr th:only-of-type {\n",
       "        vertical-align: middle;\n",
       "    }\n",
       "\n",
       "    .dataframe tbody tr th {\n",
       "        vertical-align: top;\n",
       "    }\n",
       "\n",
       "    .dataframe thead th {\n",
       "        text-align: right;\n",
       "    }\n",
       "</style>\n",
       "<table border=\"1\" class=\"dataframe\">\n",
       "  <thead>\n",
       "    <tr style=\"text-align: right;\">\n",
       "      <th></th>\n",
       "      <th>count</th>\n",
       "      <th>mean</th>\n",
       "      <th>std</th>\n",
       "      <th>min</th>\n",
       "      <th>25%</th>\n",
       "      <th>50%</th>\n",
       "      <th>75%</th>\n",
       "      <th>max</th>\n",
       "    </tr>\n",
       "  </thead>\n",
       "  <tbody>\n",
       "    <tr>\n",
       "      <th>cont0</th>\n",
       "      <td>300000.0</td>\n",
       "      <td>0.504749</td>\n",
       "      <td>0.206788</td>\n",
       "      <td>-0.049562</td>\n",
       "      <td>0.344985</td>\n",
       "      <td>0.479650</td>\n",
       "      <td>0.637657</td>\n",
       "      <td>1.004559</td>\n",
       "    </tr>\n",
       "    <tr>\n",
       "      <th>cont1</th>\n",
       "      <td>300000.0</td>\n",
       "      <td>0.494073</td>\n",
       "      <td>0.213037</td>\n",
       "      <td>0.084480</td>\n",
       "      <td>0.317363</td>\n",
       "      <td>0.463170</td>\n",
       "      <td>0.693992</td>\n",
       "      <td>1.009958</td>\n",
       "    </tr>\n",
       "    <tr>\n",
       "      <th>cont2</th>\n",
       "      <td>300000.0</td>\n",
       "      <td>0.516632</td>\n",
       "      <td>0.214851</td>\n",
       "      <td>0.094493</td>\n",
       "      <td>0.326047</td>\n",
       "      <td>0.471247</td>\n",
       "      <td>0.704625</td>\n",
       "      <td>1.016600</td>\n",
       "    </tr>\n",
       "    <tr>\n",
       "      <th>cont3</th>\n",
       "      <td>300000.0</td>\n",
       "      <td>0.474235</td>\n",
       "      <td>0.216636</td>\n",
       "      <td>-0.045316</td>\n",
       "      <td>0.292249</td>\n",
       "      <td>0.387564</td>\n",
       "      <td>0.644950</td>\n",
       "      <td>0.952187</td>\n",
       "    </tr>\n",
       "    <tr>\n",
       "      <th>cont4</th>\n",
       "      <td>300000.0</td>\n",
       "      <td>0.504848</td>\n",
       "      <td>0.227474</td>\n",
       "      <td>0.168071</td>\n",
       "      <td>0.279303</td>\n",
       "      <td>0.479858</td>\n",
       "      <td>0.725779</td>\n",
       "      <td>0.858578</td>\n",
       "    </tr>\n",
       "    <tr>\n",
       "      <th>cont5</th>\n",
       "      <td>300000.0</td>\n",
       "      <td>0.502257</td>\n",
       "      <td>0.241243</td>\n",
       "      <td>-0.036379</td>\n",
       "      <td>0.276442</td>\n",
       "      <td>0.554768</td>\n",
       "      <td>0.735225</td>\n",
       "      <td>0.853022</td>\n",
       "    </tr>\n",
       "    <tr>\n",
       "      <th>cont6</th>\n",
       "      <td>300000.0</td>\n",
       "      <td>0.488229</td>\n",
       "      <td>0.211335</td>\n",
       "      <td>0.005199</td>\n",
       "      <td>0.323914</td>\n",
       "      <td>0.518089</td>\n",
       "      <td>0.608537</td>\n",
       "      <td>0.966553</td>\n",
       "    </tr>\n",
       "    <tr>\n",
       "      <th>cont7</th>\n",
       "      <td>300000.0</td>\n",
       "      <td>0.501739</td>\n",
       "      <td>0.203496</td>\n",
       "      <td>0.090901</td>\n",
       "      <td>0.353054</td>\n",
       "      <td>0.435404</td>\n",
       "      <td>0.642023</td>\n",
       "      <td>1.035818</td>\n",
       "    </tr>\n",
       "    <tr>\n",
       "      <th>cont8</th>\n",
       "      <td>300000.0</td>\n",
       "      <td>0.488074</td>\n",
       "      <td>0.179048</td>\n",
       "      <td>0.024139</td>\n",
       "      <td>0.358915</td>\n",
       "      <td>0.410908</td>\n",
       "      <td>0.612725</td>\n",
       "      <td>1.055885</td>\n",
       "    </tr>\n",
       "    <tr>\n",
       "      <th>cont9</th>\n",
       "      <td>300000.0</td>\n",
       "      <td>0.469496</td>\n",
       "      <td>0.194516</td>\n",
       "      <td>0.214866</td>\n",
       "      <td>0.309934</td>\n",
       "      <td>0.407477</td>\n",
       "      <td>0.586793</td>\n",
       "      <td>1.005652</td>\n",
       "    </tr>\n",
       "    <tr>\n",
       "      <th>cont10</th>\n",
       "      <td>300000.0</td>\n",
       "      <td>0.508230</td>\n",
       "      <td>0.203393</td>\n",
       "      <td>0.097789</td>\n",
       "      <td>0.368312</td>\n",
       "      <td>0.446576</td>\n",
       "      <td>0.581957</td>\n",
       "      <td>1.011331</td>\n",
       "    </tr>\n",
       "    <tr>\n",
       "      <th>target</th>\n",
       "      <td>300000.0</td>\n",
       "      <td>0.264870</td>\n",
       "      <td>0.441265</td>\n",
       "      <td>0.000000</td>\n",
       "      <td>0.000000</td>\n",
       "      <td>0.000000</td>\n",
       "      <td>1.000000</td>\n",
       "      <td>1.000000</td>\n",
       "    </tr>\n",
       "  </tbody>\n",
       "</table>\n",
       "</div>"
      ],
      "text/plain": [
       "           count      mean       std       min       25%       50%       75%  \\\n",
       "cont0   300000.0  0.504749  0.206788 -0.049562  0.344985  0.479650  0.637657   \n",
       "cont1   300000.0  0.494073  0.213037  0.084480  0.317363  0.463170  0.693992   \n",
       "cont2   300000.0  0.516632  0.214851  0.094493  0.326047  0.471247  0.704625   \n",
       "cont3   300000.0  0.474235  0.216636 -0.045316  0.292249  0.387564  0.644950   \n",
       "cont4   300000.0  0.504848  0.227474  0.168071  0.279303  0.479858  0.725779   \n",
       "cont5   300000.0  0.502257  0.241243 -0.036379  0.276442  0.554768  0.735225   \n",
       "cont6   300000.0  0.488229  0.211335  0.005199  0.323914  0.518089  0.608537   \n",
       "cont7   300000.0  0.501739  0.203496  0.090901  0.353054  0.435404  0.642023   \n",
       "cont8   300000.0  0.488074  0.179048  0.024139  0.358915  0.410908  0.612725   \n",
       "cont9   300000.0  0.469496  0.194516  0.214866  0.309934  0.407477  0.586793   \n",
       "cont10  300000.0  0.508230  0.203393  0.097789  0.368312  0.446576  0.581957   \n",
       "target  300000.0  0.264870  0.441265  0.000000  0.000000  0.000000  1.000000   \n",
       "\n",
       "             max  \n",
       "cont0   1.004559  \n",
       "cont1   1.009958  \n",
       "cont2   1.016600  \n",
       "cont3   0.952187  \n",
       "cont4   0.858578  \n",
       "cont5   0.853022  \n",
       "cont6   0.966553  \n",
       "cont7   1.035818  \n",
       "cont8   1.055885  \n",
       "cont9   1.005652  \n",
       "cont10  1.011331  \n",
       "target  1.000000  "
      ]
     },
     "execution_count": 37,
     "metadata": {},
     "output_type": "execute_result"
    }
   ],
   "source": [
    "train.describe().T"
   ]
  },
  {
   "cell_type": "markdown",
   "metadata": {},
   "source": [
    "### Checking target class"
   ]
  },
  {
   "cell_type": "code",
   "execution_count": 41,
   "metadata": {},
   "outputs": [
    {
     "data": {
      "text/plain": [
       "<AxesSubplot:>"
      ]
     },
     "execution_count": 41,
     "metadata": {},
     "output_type": "execute_result"
    },
    {
     "data": {
      "image/png": "[encoded data removed]",
      "text/plain": [
       "<Figure size 432x288 with 1 Axes>"
      ]
     },
     "metadata": {},
     "output_type": "display_data"
    }
   ],
   "source": [
    "train['target'].value_counts().plot.bar()"
   ]
  },
  {
   "cell_type": "code",
   "execution_count": 42,
   "metadata": {},
   "outputs": [
    {
     "data": {
      "text/plain": [
       "0    0.73513\n",
       "1    0.26487\n",
       "Name: target, dtype: float64"
      ]
     },
     "execution_count": 42,
     "metadata": {},
     "output_type": "execute_result"
    }
   ],
   "source": [
    "train['target'].value_counts(normalize=True)"
   ]
  },
  {
   "cell_type": "markdown",
   "metadata": {},
   "source": [
    "_Inbalance target_"
   ]
  },
  {
   "cell_type": "code",
   "execution_count": null,
   "metadata": {},
   "outputs": [],
   "source": []
  },
  {
   "cell_type": "code",
   "execution_count": 33,
   "metadata": {},
   "outputs": [
    {
     "data": {
      "text/html": [
       "<div>\n",
       "<style scoped>\n",
       "    .dataframe tbody tr th:only-of-type {\n",
       "        vertical-align: middle;\n",
       "    }\n",
       "\n",
       "    .dataframe tbody tr th {\n",
       "        vertical-align: top;\n",
       "    }\n",
       "\n",
       "    .dataframe thead th {\n",
       "        text-align: right;\n",
       "    }\n",
       "</style>\n",
       "<table border=\"1\" class=\"dataframe\">\n",
       "  <thead>\n",
       "    <tr style=\"text-align: right;\">\n",
       "      <th></th>\n",
       "      <th>cat0</th>\n",
       "      <th>cat1</th>\n",
       "      <th>cat2</th>\n",
       "      <th>cat3</th>\n",
       "      <th>cat4</th>\n",
       "      <th>cat5</th>\n",
       "      <th>cat6</th>\n",
       "      <th>cat7</th>\n",
       "      <th>cat8</th>\n",
       "      <th>cat9</th>\n",
       "      <th>...</th>\n",
       "      <th>cont1</th>\n",
       "      <th>cont2</th>\n",
       "      <th>cont3</th>\n",
       "      <th>cont4</th>\n",
       "      <th>cont5</th>\n",
       "      <th>cont6</th>\n",
       "      <th>cont7</th>\n",
       "      <th>cont8</th>\n",
       "      <th>cont9</th>\n",
       "      <th>cont10</th>\n",
       "    </tr>\n",
       "    <tr>\n",
       "      <th>id</th>\n",
       "      <th></th>\n",
       "      <th></th>\n",
       "      <th></th>\n",
       "      <th></th>\n",
       "      <th></th>\n",
       "      <th></th>\n",
       "      <th></th>\n",
       "      <th></th>\n",
       "      <th></th>\n",
       "      <th></th>\n",
       "      <th></th>\n",
       "      <th></th>\n",
       "      <th></th>\n",
       "      <th></th>\n",
       "      <th></th>\n",
       "      <th></th>\n",
       "      <th></th>\n",
       "      <th></th>\n",
       "      <th></th>\n",
       "      <th></th>\n",
       "      <th></th>\n",
       "    </tr>\n",
       "  </thead>\n",
       "  <tbody>\n",
       "    <tr>\n",
       "      <th>5</th>\n",
       "      <td>A</td>\n",
       "      <td>F</td>\n",
       "      <td>A</td>\n",
       "      <td>A</td>\n",
       "      <td>F</td>\n",
       "      <td>BI</td>\n",
       "      <td>A</td>\n",
       "      <td>AH</td>\n",
       "      <td>AX</td>\n",
       "      <td>A</td>\n",
       "      <td>...</td>\n",
       "      <td>0.735690</td>\n",
       "      <td>0.578366</td>\n",
       "      <td>0.723154</td>\n",
       "      <td>0.228037</td>\n",
       "      <td>0.356227</td>\n",
       "      <td>0.551249</td>\n",
       "      <td>0.655693</td>\n",
       "      <td>0.598331</td>\n",
       "      <td>0.359987</td>\n",
       "      <td>0.947489</td>\n",
       "    </tr>\n",
       "    <tr>\n",
       "      <th>6</th>\n",
       "      <td>A</td>\n",
       "      <td>H</td>\n",
       "      <td>C</td>\n",
       "      <td>A</td>\n",
       "      <td>E</td>\n",
       "      <td>AB</td>\n",
       "      <td>I</td>\n",
       "      <td>F</td>\n",
       "      <td>N</td>\n",
       "      <td>A</td>\n",
       "      <td>...</td>\n",
       "      <td>0.313703</td>\n",
       "      <td>0.928885</td>\n",
       "      <td>0.516602</td>\n",
       "      <td>0.600169</td>\n",
       "      <td>0.795224</td>\n",
       "      <td>0.248987</td>\n",
       "      <td>0.654614</td>\n",
       "      <td>0.347944</td>\n",
       "      <td>0.565520</td>\n",
       "      <td>0.388580</td>\n",
       "    </tr>\n",
       "    <tr>\n",
       "      <th>8</th>\n",
       "      <td>A</td>\n",
       "      <td>N</td>\n",
       "      <td>C</td>\n",
       "      <td>A</td>\n",
       "      <td>F</td>\n",
       "      <td>AB</td>\n",
       "      <td>A</td>\n",
       "      <td>AH</td>\n",
       "      <td>BC</td>\n",
       "      <td>A</td>\n",
       "      <td>...</td>\n",
       "      <td>0.448201</td>\n",
       "      <td>0.424876</td>\n",
       "      <td>0.344729</td>\n",
       "      <td>0.242073</td>\n",
       "      <td>0.270632</td>\n",
       "      <td>0.746740</td>\n",
       "      <td>0.335590</td>\n",
       "      <td>0.341238</td>\n",
       "      <td>0.252289</td>\n",
       "      <td>0.411592</td>\n",
       "    </tr>\n",
       "    <tr>\n",
       "      <th>9</th>\n",
       "      <td>B</td>\n",
       "      <td>L</td>\n",
       "      <td>C</td>\n",
       "      <td>A</td>\n",
       "      <td>F</td>\n",
       "      <td>BI</td>\n",
       "      <td>A</td>\n",
       "      <td>E</td>\n",
       "      <td>AX</td>\n",
       "      <td>A</td>\n",
       "      <td>...</td>\n",
       "      <td>0.666092</td>\n",
       "      <td>0.598943</td>\n",
       "      <td>0.561971</td>\n",
       "      <td>0.806347</td>\n",
       "      <td>0.735983</td>\n",
       "      <td>0.538724</td>\n",
       "      <td>0.381566</td>\n",
       "      <td>0.481660</td>\n",
       "      <td>0.348514</td>\n",
       "      <td>0.325723</td>\n",
       "    </tr>\n",
       "    <tr>\n",
       "      <th>11</th>\n",
       "      <td>A</td>\n",
       "      <td>F</td>\n",
       "      <td>A</td>\n",
       "      <td>B</td>\n",
       "      <td>F</td>\n",
       "      <td>BI</td>\n",
       "      <td>A</td>\n",
       "      <td>AH</td>\n",
       "      <td>I</td>\n",
       "      <td>A</td>\n",
       "      <td>...</td>\n",
       "      <td>0.772229</td>\n",
       "      <td>0.479572</td>\n",
       "      <td>0.767745</td>\n",
       "      <td>0.252454</td>\n",
       "      <td>0.354810</td>\n",
       "      <td>0.178920</td>\n",
       "      <td>0.763479</td>\n",
       "      <td>0.562491</td>\n",
       "      <td>0.466261</td>\n",
       "      <td>0.585781</td>\n",
       "    </tr>\n",
       "  </tbody>\n",
       "</table>\n",
       "<p>5 rows × 30 columns</p>\n",
       "</div>"
      ],
      "text/plain": [
       "   cat0 cat1 cat2 cat3 cat4 cat5 cat6 cat7 cat8 cat9  ...     cont1     cont2  \\\n",
       "id                                                    ...                       \n",
       "5     A    F    A    A    F   BI    A   AH   AX    A  ...  0.735690  0.578366   \n",
       "6     A    H    C    A    E   AB    I    F    N    A  ...  0.313703  0.928885   \n",
       "8     A    N    C    A    F   AB    A   AH   BC    A  ...  0.448201  0.424876   \n",
       "9     B    L    C    A    F   BI    A    E   AX    A  ...  0.666092  0.598943   \n",
       "11    A    F    A    B    F   BI    A   AH    I    A  ...  0.772229  0.479572   \n",
       "\n",
       "       cont3     cont4     cont5     cont6     cont7     cont8     cont9  \\\n",
       "id                                                                         \n",
       "5   0.723154  0.228037  0.356227  0.551249  0.655693  0.598331  0.359987   \n",
       "6   0.516602  0.600169  0.795224  0.248987  0.654614  0.347944  0.565520   \n",
       "8   0.344729  0.242073  0.270632  0.746740  0.335590  0.341238  0.252289   \n",
       "9   0.561971  0.806347  0.735983  0.538724  0.381566  0.481660  0.348514   \n",
       "11  0.767745  0.252454  0.354810  0.178920  0.763479  0.562491  0.466261   \n",
       "\n",
       "      cont10  \n",
       "id            \n",
       "5   0.947489  \n",
       "6   0.388580  \n",
       "8   0.411592  \n",
       "9   0.325723  \n",
       "11  0.585781  \n",
       "\n",
       "[5 rows x 30 columns]"
      ]
     },
     "execution_count": 33,
     "metadata": {},
     "output_type": "execute_result"
    }
   ],
   "source": [
    "test.head()"
   ]
  },
  {
   "cell_type": "code",
   "execution_count": 26,
   "metadata": {},
   "outputs": [
    {
     "data": {
      "text/html": [
       "<div>\n",
       "<style scoped>\n",
       "    .dataframe tbody tr th:only-of-type {\n",
       "        vertical-align: middle;\n",
       "    }\n",
       "\n",
       "    .dataframe tbody tr th {\n",
       "        vertical-align: top;\n",
       "    }\n",
       "\n",
       "    .dataframe thead th {\n",
       "        text-align: right;\n",
       "    }\n",
       "</style>\n",
       "<table border=\"1\" class=\"dataframe\">\n",
       "  <thead>\n",
       "    <tr style=\"text-align: right;\">\n",
       "      <th></th>\n",
       "      <th>id</th>\n",
       "      <th>target</th>\n",
       "    </tr>\n",
       "  </thead>\n",
       "  <tbody>\n",
       "    <tr>\n",
       "      <th>0</th>\n",
       "      <td>5</td>\n",
       "      <td>0.5</td>\n",
       "    </tr>\n",
       "    <tr>\n",
       "      <th>1</th>\n",
       "      <td>6</td>\n",
       "      <td>0.5</td>\n",
       "    </tr>\n",
       "    <tr>\n",
       "      <th>2</th>\n",
       "      <td>8</td>\n",
       "      <td>0.5</td>\n",
       "    </tr>\n",
       "    <tr>\n",
       "      <th>3</th>\n",
       "      <td>9</td>\n",
       "      <td>0.5</td>\n",
       "    </tr>\n",
       "    <tr>\n",
       "      <th>4</th>\n",
       "      <td>11</td>\n",
       "      <td>0.5</td>\n",
       "    </tr>\n",
       "  </tbody>\n",
       "</table>\n",
       "</div>"
      ],
      "text/plain": [
       "   id  target\n",
       "0   5     0.5\n",
       "1   6     0.5\n",
       "2   8     0.5\n",
       "3   9     0.5\n",
       "4  11     0.5"
      ]
     },
     "execution_count": 26,
     "metadata": {},
     "output_type": "execute_result"
    }
   ],
   "source": [
    "submission.head()"
   ]
  },
  {
   "cell_type": "markdown",
   "metadata": {},
   "source": [
    "### Label Encoding of Categorical Variables"
   ]
  },
  {
   "cell_type": "code",
   "execution_count": 44,
   "metadata": {},
   "outputs": [
    {
     "data": {
      "text/html": [
       "<div>\n",
       "<style scoped>\n",
       "    .dataframe tbody tr th:only-of-type {\n",
       "        vertical-align: middle;\n",
       "    }\n",
       "\n",
       "    .dataframe tbody tr th {\n",
       "        vertical-align: top;\n",
       "    }\n",
       "\n",
       "    .dataframe thead th {\n",
       "        text-align: right;\n",
       "    }\n",
       "</style>\n",
       "<table border=\"1\" class=\"dataframe\">\n",
       "  <thead>\n",
       "    <tr style=\"text-align: right;\">\n",
       "      <th></th>\n",
       "      <th>cat0</th>\n",
       "      <th>cat1</th>\n",
       "      <th>cat2</th>\n",
       "      <th>cat3</th>\n",
       "      <th>cat4</th>\n",
       "      <th>cat5</th>\n",
       "      <th>cat6</th>\n",
       "      <th>cat7</th>\n",
       "      <th>cat8</th>\n",
       "      <th>cat9</th>\n",
       "      <th>...</th>\n",
       "      <th>cont2</th>\n",
       "      <th>cont3</th>\n",
       "      <th>cont4</th>\n",
       "      <th>cont5</th>\n",
       "      <th>cont6</th>\n",
       "      <th>cont7</th>\n",
       "      <th>cont8</th>\n",
       "      <th>cont9</th>\n",
       "      <th>cont10</th>\n",
       "      <th>target</th>\n",
       "    </tr>\n",
       "    <tr>\n",
       "      <th>id</th>\n",
       "      <th></th>\n",
       "      <th></th>\n",
       "      <th></th>\n",
       "      <th></th>\n",
       "      <th></th>\n",
       "      <th></th>\n",
       "      <th></th>\n",
       "      <th></th>\n",
       "      <th></th>\n",
       "      <th></th>\n",
       "      <th></th>\n",
       "      <th></th>\n",
       "      <th></th>\n",
       "      <th></th>\n",
       "      <th></th>\n",
       "      <th></th>\n",
       "      <th></th>\n",
       "      <th></th>\n",
       "      <th></th>\n",
       "      <th></th>\n",
       "      <th></th>\n",
       "    </tr>\n",
       "  </thead>\n",
       "  <tbody>\n",
       "    <tr>\n",
       "      <th>0</th>\n",
       "      <td>0</td>\n",
       "      <td>8</td>\n",
       "      <td>0</td>\n",
       "      <td>1</td>\n",
       "      <td>1</td>\n",
       "      <td>33</td>\n",
       "      <td>0</td>\n",
       "      <td>44</td>\n",
       "      <td>54</td>\n",
       "      <td>0</td>\n",
       "      <td>...</td>\n",
       "      <td>0.759439</td>\n",
       "      <td>0.795549</td>\n",
       "      <td>0.681917</td>\n",
       "      <td>0.621672</td>\n",
       "      <td>0.592184</td>\n",
       "      <td>0.791921</td>\n",
       "      <td>0.815254</td>\n",
       "      <td>0.965006</td>\n",
       "      <td>0.665915</td>\n",
       "      <td>0</td>\n",
       "    </tr>\n",
       "    <tr>\n",
       "      <th>1</th>\n",
       "      <td>0</td>\n",
       "      <td>8</td>\n",
       "      <td>0</td>\n",
       "      <td>0</td>\n",
       "      <td>4</td>\n",
       "      <td>33</td>\n",
       "      <td>8</td>\n",
       "      <td>48</td>\n",
       "      <td>3</td>\n",
       "      <td>5</td>\n",
       "      <td>...</td>\n",
       "      <td>0.386385</td>\n",
       "      <td>0.541366</td>\n",
       "      <td>0.388982</td>\n",
       "      <td>0.357778</td>\n",
       "      <td>0.600044</td>\n",
       "      <td>0.408701</td>\n",
       "      <td>0.399353</td>\n",
       "      <td>0.927406</td>\n",
       "      <td>0.493729</td>\n",
       "      <td>0</td>\n",
       "    </tr>\n",
       "    <tr>\n",
       "      <th>2</th>\n",
       "      <td>0</td>\n",
       "      <td>10</td>\n",
       "      <td>0</td>\n",
       "      <td>0</td>\n",
       "      <td>4</td>\n",
       "      <td>33</td>\n",
       "      <td>0</td>\n",
       "      <td>30</td>\n",
       "      <td>38</td>\n",
       "      <td>9</td>\n",
       "      <td>...</td>\n",
       "      <td>0.343255</td>\n",
       "      <td>0.616352</td>\n",
       "      <td>0.793687</td>\n",
       "      <td>0.552877</td>\n",
       "      <td>0.352113</td>\n",
       "      <td>0.388835</td>\n",
       "      <td>0.412303</td>\n",
       "      <td>0.292696</td>\n",
       "      <td>0.549452</td>\n",
       "      <td>0</td>\n",
       "    </tr>\n",
       "    <tr>\n",
       "      <th>3</th>\n",
       "      <td>0</td>\n",
       "      <td>10</td>\n",
       "      <td>0</td>\n",
       "      <td>2</td>\n",
       "      <td>4</td>\n",
       "      <td>33</td>\n",
       "      <td>0</td>\n",
       "      <td>50</td>\n",
       "      <td>3</td>\n",
       "      <td>5</td>\n",
       "      <td>...</td>\n",
       "      <td>0.831147</td>\n",
       "      <td>0.807807</td>\n",
       "      <td>0.800032</td>\n",
       "      <td>0.619147</td>\n",
       "      <td>0.221789</td>\n",
       "      <td>0.897617</td>\n",
       "      <td>0.633669</td>\n",
       "      <td>0.760318</td>\n",
       "      <td>0.934242</td>\n",
       "      <td>0</td>\n",
       "    </tr>\n",
       "    <tr>\n",
       "      <th>4</th>\n",
       "      <td>0</td>\n",
       "      <td>8</td>\n",
       "      <td>6</td>\n",
       "      <td>1</td>\n",
       "      <td>4</td>\n",
       "      <td>33</td>\n",
       "      <td>2</td>\n",
       "      <td>32</td>\n",
       "      <td>54</td>\n",
       "      <td>0</td>\n",
       "      <td>...</td>\n",
       "      <td>0.338818</td>\n",
       "      <td>0.277308</td>\n",
       "      <td>0.610578</td>\n",
       "      <td>0.128291</td>\n",
       "      <td>0.578764</td>\n",
       "      <td>0.279167</td>\n",
       "      <td>0.351103</td>\n",
       "      <td>0.357084</td>\n",
       "      <td>0.328960</td>\n",
       "      <td>1</td>\n",
       "    </tr>\n",
       "  </tbody>\n",
       "</table>\n",
       "<p>5 rows × 31 columns</p>\n",
       "</div>"
      ],
      "text/plain": [
       "    cat0  cat1  cat2  cat3  cat4  cat5  cat6  cat7  cat8  cat9  ...     cont2  \\\n",
       "id                                                              ...             \n",
       "0      0     8     0     1     1    33     0    44    54     0  ...  0.759439   \n",
       "1      0     8     0     0     4    33     8    48     3     5  ...  0.386385   \n",
       "2      0    10     0     0     4    33     0    30    38     9  ...  0.343255   \n",
       "3      0    10     0     2     4    33     0    50     3     5  ...  0.831147   \n",
       "4      0     8     6     1     4    33     2    32    54     0  ...  0.338818   \n",
       "\n",
       "       cont3     cont4     cont5     cont6     cont7     cont8     cont9  \\\n",
       "id                                                                         \n",
       "0   0.795549  0.681917  0.621672  0.592184  0.791921  0.815254  0.965006   \n",
       "1   0.541366  0.388982  0.357778  0.600044  0.408701  0.399353  0.927406   \n",
       "2   0.616352  0.793687  0.552877  0.352113  0.388835  0.412303  0.292696   \n",
       "3   0.807807  0.800032  0.619147  0.221789  0.897617  0.633669  0.760318   \n",
       "4   0.277308  0.610578  0.128291  0.578764  0.279167  0.351103  0.357084   \n",
       "\n",
       "      cont10  target  \n",
       "id                    \n",
       "0   0.665915       0  \n",
       "1   0.493729       0  \n",
       "2   0.549452       0  \n",
       "3   0.934242       0  \n",
       "4   0.328960       1  \n",
       "\n",
       "[5 rows x 31 columns]"
      ]
     },
     "metadata": {},
     "output_type": "display_data"
    }
   ],
   "source": [
    "for c in train.columns:\n",
    "    if train[c].dtype=='object': \n",
    "        lbl = LabelEncoder()\n",
    "        lbl.fit(list(train[c].values) + list(test[c].values))\n",
    "        train[c] = lbl.transform(train[c].values)\n",
    "        test[c] = lbl.transform(test[c].values)\n",
    "        \n",
    "display(train.head())"
   ]
  },
  {
   "cell_type": "markdown",
   "metadata": {},
   "source": [
    "### Test Train Split"
   ]
  },
  {
   "cell_type": "code",
   "execution_count": 63,
   "metadata": {},
   "outputs": [],
   "source": [
    "X = train.drop('target', axis=1)\n",
    "y = train['target']\n",
    "X_train, X_test, y_train, y_test = train_test_split(X, y, test_size=.30, stratify=y)"
   ]
  },
  {
   "cell_type": "markdown",
   "metadata": {},
   "source": [
    "### Random Forest"
   ]
  },
  {
   "cell_type": "code",
   "execution_count": 64,
   "metadata": {},
   "outputs": [],
   "source": [
    "from sklearn.ensemble import RandomForestClassifier"
   ]
  },
  {
   "cell_type": "code",
   "execution_count": 65,
   "metadata": {},
   "outputs": [
    {
     "name": "stdout",
     "output_type": "stream",
     "text": [
      "0.87572\n"
     ]
    }
   ],
   "source": [
    "clf = RandomForestClassifier(n_estimators=200, max_depth=7, n_jobs=-1)\n",
    "clf.fit(X_train, y_train)\n",
    "y_pred = clf.predict_proba(X_test)[:, 1] # This grabs the positive class prediction\n",
    "score = roc_auc_score(y_test, y_pred)\n",
    "print(f'{score:0.5f}') # 0.87323 shows we're doing better than a dummy model"
   ]
  },
  {
   "cell_type": "markdown",
   "metadata": {},
   "source": [
    "#### Without tuning"
   ]
  },
  {
   "cell_type": "code",
   "execution_count": 66,
   "metadata": {},
   "outputs": [
    {
     "name": "stdout",
     "output_type": "stream",
     "text": [
      "0.88492\n"
     ]
    }
   ],
   "source": [
    "clf = RandomForestClassifier()\n",
    "clf.fit(X_train, y_train)\n",
    "y_pred = clf.predict_proba(X_test)[:, 1] # This grabs the positive class prediction\n",
    "score = roc_auc_score(y_test, y_pred)\n",
    "print(f'{score:0.5f}') # 0.87323 shows we're doing better than a dummy model"
   ]
  },
  {
   "cell_type": "code",
   "execution_count": 54,
   "metadata": {},
   "outputs": [
    {
     "data": {
      "image/png": "[encoded data removed]",
      "text/plain": [
       "<Figure size 576x288 with 1 Axes>"
      ]
     },
     "metadata": {},
     "output_type": "display_data"
    }
   ],
   "source": [
    "plt.figure(figsize=(8,4))\n",
    "plt.hist(y_pred[np.where(y_test == 0)], bins=100, alpha=0.75, label='neg class')\n",
    "plt.hist(y_pred[np.where(y_test == 1)], bins=100, alpha=0.75, label='pos class')\n",
    "plt.legend()\n",
    "plt.show()"
   ]
  },
  {
   "cell_type": "markdown",
   "metadata": {},
   "source": [
    "### XGBOOST"
   ]
  },
  {
   "cell_type": "code",
   "execution_count": 67,
   "metadata": {},
   "outputs": [
    {
     "name": "stdout",
     "output_type": "stream",
     "text": [
      "0.89006\n"
     ]
    }
   ],
   "source": [
    "import xgboost as xgb\n",
    "clf = xgb.XGBClassifier()\n",
    "clf.fit(X_train, y_train)\n",
    "y_pred = clf.predict_proba(X_test)[:, 1] # This grabs the positive class prediction\n",
    "score = roc_auc_score(y_test, y_pred)\n",
    "print(f'{score:0.5f}') # 0.87323 shows we're doing better than a dummy model"
   ]
  },
  {
   "cell_type": "markdown",
   "metadata": {},
   "source": [
    "_Better score_"
   ]
  },
  {
   "cell_type": "markdown",
   "metadata": {},
   "source": [
    "### Submission file output"
   ]
  },
  {
   "cell_type": "code",
   "execution_count": 70,
   "metadata": {},
   "outputs": [],
   "source": [
    "clf = xgb.XGBClassifier()\n",
    "clf.fit(X, y)\n",
    "submission['target'] = clf.predict_proba(test)[:, 1]\n",
    "submission.to_csv('xgboost2.csv')"
   ]
  },
  {
   "cell_type": "markdown",
   "metadata": {},
   "source": [
    "### SMOTE for Target Balance"
   ]
  },
  {
   "cell_type": "code",
   "execution_count": 72,
   "metadata": {},
   "outputs": [
    {
     "data": {
      "text/plain": [
       "0    154377\n",
       "1     55623\n",
       "Name: target, dtype: int64"
      ]
     },
     "execution_count": 72,
     "metadata": {},
     "output_type": "execute_result"
    }
   ],
   "source": [
    "y_train.value_counts()"
   ]
  },
  {
   "cell_type": "code",
   "execution_count": 73,
   "metadata": {},
   "outputs": [
    {
     "name": "stdout",
     "output_type": "stream",
     "text": [
      "Resampled dataset shape Counter({1: 154377, 0: 154377})\n"
     ]
    }
   ],
   "source": [
    "from imblearn.over_sampling import SMOTE\n",
    "from collections import Counter\n",
    "\n",
    "# Increasing number of Target 0 equal to Target 1\n",
    "sm = SMOTE(random_state=42)\n",
    "\n",
    "X_train_SM, y_train_SM = sm.fit_sample(X_train, y_train)\n",
    "print('Resampled dataset shape {}'.format(Counter(y_train_SM)))"
   ]
  },
  {
   "cell_type": "code",
   "execution_count": 74,
   "metadata": {},
   "outputs": [
    {
     "name": "stdout",
     "output_type": "stream",
     "text": [
      "0.88108\n"
     ]
    }
   ],
   "source": [
    "clf = xgb.XGBClassifier()\n",
    "clf.fit(X_train_SM, y_train_SM)\n",
    "y_pred = clf.predict_proba(X_test)[:, 1] # This grabs the positive class prediction\n",
    "score = roc_auc_score(y_test, y_pred)\n",
    "print(f'{score:0.5f}') "
   ]
  },
  {
   "cell_type": "markdown",
   "metadata": {},
   "source": [
    "_It's worse than without SMOTE_"
   ]
  },
  {
   "cell_type": "code",
   "execution_count": 75,
   "metadata": {},
   "outputs": [
    {
     "name": "stdout",
     "output_type": "stream",
     "text": [
      "0.88058\n"
     ]
    }
   ],
   "source": [
    "clf = RandomForestClassifier()\n",
    "clf.fit(X_train_SM, y_train_SM)\n",
    "y_pred = clf.predict_proba(X_test)[:, 1] # This grabs the positive class prediction\n",
    "score = roc_auc_score(y_test, y_pred)\n",
    "print(f'{score:0.5f}') "
   ]
  },
  {
   "cell_type": "markdown",
   "metadata": {},
   "source": [
    "### Deep Learning"
   ]
  },
  {
   "cell_type": "code",
   "execution_count": 76,
   "metadata": {},
   "outputs": [],
   "source": [
    "import tensorflow as tf\n",
    "from tensorflow.keras.models import Sequential\n",
    "from tensorflow.keras.layers import Dense, Activation, Dropout\n",
    "from tensorflow.keras.callbacks import EarlyStopping"
   ]
  },
  {
   "cell_type": "code",
   "execution_count": 77,
   "metadata": {},
   "outputs": [
    {
     "data": {
      "text/plain": [
       "(210000, 30)"
      ]
     },
     "execution_count": 77,
     "metadata": {},
     "output_type": "execute_result"
    }
   ],
   "source": [
    "X_train.shape"
   ]
  },
  {
   "cell_type": "code",
   "execution_count": 78,
   "metadata": {},
   "outputs": [
    {
     "data": {
      "text/plain": [
       "(90000, 30)"
      ]
     },
     "execution_count": 78,
     "metadata": {},
     "output_type": "execute_result"
    }
   ],
   "source": [
    "X_test.shape"
   ]
  },
  {
   "cell_type": "code",
   "execution_count": 79,
   "metadata": {},
   "outputs": [],
   "source": [
    "model = Sequential()\n",
    "model.add(Dense(30, activation=\"relu\"))\n",
    "model.add(Dense(15, activation=\"relu\"))\n",
    "model.add(Dense(1, activation=\"sigmoid\"))"
   ]
  },
  {
   "cell_type": "code",
   "execution_count": 80,
   "metadata": {},
   "outputs": [],
   "source": [
    "model.compile(loss=\"binary_crossentropy\", optimizer=\"adam\", metrics=[\"accuracy\"])"
   ]
  },
  {
   "cell_type": "code",
   "execution_count": 81,
   "metadata": {
    "scrolled": true
   },
   "outputs": [
    {
     "name": "stdout",
     "output_type": "stream",
     "text": [
      "Epoch 1/600\n",
      "411/411 [==============================] - 2s 3ms/step - loss: 0.5773 - accuracy: 0.7498 - val_loss: 0.3923 - val_accuracy: 0.8325\n",
      "Epoch 2/600\n",
      "411/411 [==============================] - 1s 2ms/step - loss: 0.3944 - accuracy: 0.8302 - val_loss: 0.4190 - val_accuracy: 0.8255\n",
      "Epoch 3/600\n",
      "411/411 [==============================] - 1s 2ms/step - loss: 0.3890 - accuracy: 0.8330 - val_loss: 0.3829 - val_accuracy: 0.8353\n",
      "Epoch 4/600\n",
      "411/411 [==============================] - 1s 2ms/step - loss: 0.3890 - accuracy: 0.8321 - val_loss: 0.3879 - val_accuracy: 0.8331\n",
      "Epoch 5/600\n",
      "411/411 [==============================] - 1s 2ms/step - loss: 0.3862 - accuracy: 0.8346 - val_loss: 0.3798 - val_accuracy: 0.8379\n",
      "Epoch 6/600\n",
      "411/411 [==============================] - 1s 3ms/step - loss: 0.3848 - accuracy: 0.8351 - val_loss: 0.3835 - val_accuracy: 0.8344\n",
      "Epoch 7/600\n",
      "411/411 [==============================] - 1s 2ms/step - loss: 0.3823 - accuracy: 0.8362 - val_loss: 0.3780 - val_accuracy: 0.8386\n",
      "Epoch 8/600\n",
      "411/411 [==============================] - 1s 3ms/step - loss: 0.3838 - accuracy: 0.8351 - val_loss: 0.3779 - val_accuracy: 0.8381\n",
      "Epoch 9/600\n",
      "411/411 [==============================] - 1s 2ms/step - loss: 0.3817 - accuracy: 0.8367 - val_loss: 0.3772 - val_accuracy: 0.8385\n",
      "Epoch 10/600\n",
      "411/411 [==============================] - 1s 2ms/step - loss: 0.3817 - accuracy: 0.8363 - val_loss: 0.3803 - val_accuracy: 0.8374\n",
      "Epoch 11/600\n",
      "411/411 [==============================] - 1s 2ms/step - loss: 0.3822 - accuracy: 0.8358 - val_loss: 0.3793 - val_accuracy: 0.8370\n",
      "Epoch 12/600\n",
      "411/411 [==============================] - 1s 2ms/step - loss: 0.3795 - accuracy: 0.8376 - val_loss: 0.3830 - val_accuracy: 0.8372\n",
      "Epoch 13/600\n",
      "411/411 [==============================] - 1s 3ms/step - loss: 0.3809 - accuracy: 0.8364 - val_loss: 0.3753 - val_accuracy: 0.8389\n",
      "Epoch 14/600\n",
      "411/411 [==============================] - 1s 3ms/step - loss: 0.3793 - accuracy: 0.8367 - val_loss: 0.3960 - val_accuracy: 0.8323\n",
      "Epoch 15/600\n",
      "411/411 [==============================] - 1s 3ms/step - loss: 0.3823 - accuracy: 0.8356 - val_loss: 0.3792 - val_accuracy: 0.8362\n",
      "Epoch 16/600\n",
      "411/411 [==============================] - 1s 2ms/step - loss: 0.3789 - accuracy: 0.8369 - val_loss: 0.3826 - val_accuracy: 0.8375\n",
      "Epoch 17/600\n",
      "411/411 [==============================] - 1s 3ms/step - loss: 0.3799 - accuracy: 0.8364 - val_loss: 0.3814 - val_accuracy: 0.8373\n",
      "Epoch 18/600\n",
      "411/411 [==============================] - 1s 3ms/step - loss: 0.3797 - accuracy: 0.8368 - val_loss: 0.3753 - val_accuracy: 0.8387\n",
      "Epoch 19/600\n",
      "411/411 [==============================] - 1s 2ms/step - loss: 0.3781 - accuracy: 0.8383 - val_loss: 0.3843 - val_accuracy: 0.8367\n",
      "Epoch 20/600\n",
      "411/411 [==============================] - 1s 3ms/step - loss: 0.3781 - accuracy: 0.8377 - val_loss: 0.3743 - val_accuracy: 0.8393\n",
      "Epoch 21/600\n",
      "411/411 [==============================] - 1s 2ms/step - loss: 0.3770 - accuracy: 0.8381 - val_loss: 0.3752 - val_accuracy: 0.8384\n",
      "Epoch 22/600\n",
      "411/411 [==============================] - 1s 2ms/step - loss: 0.3797 - accuracy: 0.8371 - val_loss: 0.3736 - val_accuracy: 0.8391\n",
      "Epoch 23/600\n",
      "411/411 [==============================] - 1s 3ms/step - loss: 0.3777 - accuracy: 0.8378 - val_loss: 0.3775 - val_accuracy: 0.8382\n",
      "Epoch 24/600\n",
      "411/411 [==============================] - 1s 2ms/step - loss: 0.3780 - accuracy: 0.8371 - val_loss: 0.3735 - val_accuracy: 0.8394\n",
      "Epoch 25/600\n",
      "411/411 [==============================] - 1s 3ms/step - loss: 0.3778 - accuracy: 0.8379 - val_loss: 0.3765 - val_accuracy: 0.8384\n",
      "Epoch 26/600\n",
      "411/411 [==============================] - 1s 2ms/step - loss: 0.3780 - accuracy: 0.8373 - val_loss: 0.3827 - val_accuracy: 0.8342\n",
      "Epoch 27/600\n",
      "411/411 [==============================] - 1s 2ms/step - loss: 0.3778 - accuracy: 0.8363 - val_loss: 0.3875 - val_accuracy: 0.8312\n",
      "Epoch 28/600\n",
      "411/411 [==============================] - 1s 3ms/step - loss: 0.3745 - accuracy: 0.8394 - val_loss: 0.3727 - val_accuracy: 0.8392\n",
      "Epoch 29/600\n",
      "411/411 [==============================] - 1s 3ms/step - loss: 0.3779 - accuracy: 0.8379 - val_loss: 0.3733 - val_accuracy: 0.8388\n",
      "Epoch 30/600\n",
      "411/411 [==============================] - 1s 3ms/step - loss: 0.3743 - accuracy: 0.8383 - val_loss: 0.3738 - val_accuracy: 0.8389\n",
      "Epoch 31/600\n",
      "411/411 [==============================] - 1s 2ms/step - loss: 0.3786 - accuracy: 0.8365 - val_loss: 0.3740 - val_accuracy: 0.8388\n",
      "Epoch 32/600\n",
      "411/411 [==============================] - 1s 2ms/step - loss: 0.3768 - accuracy: 0.8381 - val_loss: 0.3754 - val_accuracy: 0.8388\n",
      "Epoch 33/600\n",
      "411/411 [==============================] - 1s 3ms/step - loss: 0.3775 - accuracy: 0.8373 - val_loss: 0.3741 - val_accuracy: 0.8393\n",
      "Epoch 34/600\n",
      "411/411 [==============================] - 1s 2ms/step - loss: 0.3785 - accuracy: 0.8380 - val_loss: 0.3726 - val_accuracy: 0.8394\n",
      "Epoch 35/600\n",
      "411/411 [==============================] - 1s 2ms/step - loss: 0.3745 - accuracy: 0.8403 - val_loss: 0.3725 - val_accuracy: 0.8392\n",
      "Epoch 36/600\n",
      "411/411 [==============================] - 1s 3ms/step - loss: 0.3759 - accuracy: 0.8382 - val_loss: 0.3723 - val_accuracy: 0.8394\n",
      "Epoch 37/600\n",
      "411/411 [==============================] - 1s 3ms/step - loss: 0.3768 - accuracy: 0.8382 - val_loss: 0.3749 - val_accuracy: 0.8381\n",
      "Epoch 38/600\n",
      "411/411 [==============================] - 1s 2ms/step - loss: 0.3748 - accuracy: 0.8386 - val_loss: 0.3725 - val_accuracy: 0.8391\n",
      "Epoch 39/600\n",
      "411/411 [==============================] - 1s 3ms/step - loss: 0.3761 - accuracy: 0.8391 - val_loss: 0.3745 - val_accuracy: 0.8387\n",
      "Epoch 40/600\n",
      "411/411 [==============================] - 1s 3ms/step - loss: 0.3764 - accuracy: 0.8381 - val_loss: 0.3726 - val_accuracy: 0.8396\n",
      "Epoch 41/600\n",
      "411/411 [==============================] - 1s 2ms/step - loss: 0.3753 - accuracy: 0.8389 - val_loss: 0.3733 - val_accuracy: 0.8392\n",
      "Epoch 42/600\n",
      "411/411 [==============================] - 1s 2ms/step - loss: 0.3765 - accuracy: 0.8385 - val_loss: 0.3719 - val_accuracy: 0.8397\n",
      "Epoch 43/600\n",
      "411/411 [==============================] - 1s 3ms/step - loss: 0.3754 - accuracy: 0.8387 - val_loss: 0.3770 - val_accuracy: 0.8375\n",
      "Epoch 44/600\n",
      "411/411 [==============================] - 1s 3ms/step - loss: 0.3757 - accuracy: 0.8382 - val_loss: 0.3812 - val_accuracy: 0.8341\n",
      "Epoch 45/600\n",
      "411/411 [==============================] - 1s 3ms/step - loss: 0.3779 - accuracy: 0.8375 - val_loss: 0.3722 - val_accuracy: 0.8396\n",
      "Epoch 46/600\n",
      "411/411 [==============================] - 1s 3ms/step - loss: 0.3761 - accuracy: 0.8386 - val_loss: 0.3729 - val_accuracy: 0.8392\n",
      "Epoch 47/600\n",
      "411/411 [==============================] - 1s 2ms/step - loss: 0.3773 - accuracy: 0.8371 - val_loss: 0.3751 - val_accuracy: 0.8377\n",
      "Epoch 48/600\n",
      "411/411 [==============================] - 1s 2ms/step - loss: 0.3714 - accuracy: 0.8404 - val_loss: 0.3722 - val_accuracy: 0.8396\n",
      "Epoch 49/600\n",
      "411/411 [==============================] - 1s 3ms/step - loss: 0.3767 - accuracy: 0.8382 - val_loss: 0.3803 - val_accuracy: 0.8376\n",
      "Epoch 50/600\n",
      "411/411 [==============================] - 1s 3ms/step - loss: 0.3750 - accuracy: 0.8386 - val_loss: 0.3741 - val_accuracy: 0.8383\n",
      "Epoch 51/600\n",
      "411/411 [==============================] - 1s 2ms/step - loss: 0.3757 - accuracy: 0.8378 - val_loss: 0.3711 - val_accuracy: 0.8398\n",
      "Epoch 52/600\n",
      "411/411 [==============================] - 1s 2ms/step - loss: 0.3739 - accuracy: 0.8391 - val_loss: 0.3764 - val_accuracy: 0.8372\n",
      "Epoch 53/600\n",
      "411/411 [==============================] - 1s 3ms/step - loss: 0.3747 - accuracy: 0.8386 - val_loss: 0.3713 - val_accuracy: 0.8403\n",
      "Epoch 54/600\n",
      "411/411 [==============================] - 1s 2ms/step - loss: 0.3738 - accuracy: 0.8396 - val_loss: 0.3715 - val_accuracy: 0.8400\n",
      "Epoch 55/600\n",
      "411/411 [==============================] - 1s 3ms/step - loss: 0.3755 - accuracy: 0.8379 - val_loss: 0.3708 - val_accuracy: 0.8403\n",
      "Epoch 56/600\n",
      "411/411 [==============================] - 1s 2ms/step - loss: 0.3753 - accuracy: 0.8383 - val_loss: 0.3804 - val_accuracy: 0.8378\n",
      "Epoch 57/600\n",
      "411/411 [==============================] - 1s 3ms/step - loss: 0.3743 - accuracy: 0.8393 - val_loss: 0.3808 - val_accuracy: 0.8345\n",
      "Epoch 58/600\n",
      "411/411 [==============================] - 1s 3ms/step - loss: 0.3720 - accuracy: 0.8409 - val_loss: 0.3747 - val_accuracy: 0.8373\n",
      "Epoch 59/600\n",
      "411/411 [==============================] - 1s 3ms/step - loss: 0.3739 - accuracy: 0.8388 - val_loss: 0.3738 - val_accuracy: 0.8395\n",
      "Epoch 60/600\n",
      "411/411 [==============================] - 1s 3ms/step - loss: 0.3737 - accuracy: 0.8390 - val_loss: 0.3726 - val_accuracy: 0.8394\n",
      "Epoch 61/600\n",
      "411/411 [==============================] - 1s 3ms/step - loss: 0.3727 - accuracy: 0.8399 - val_loss: 0.3717 - val_accuracy: 0.8397\n",
      "Epoch 62/600\n",
      "411/411 [==============================] - 1s 3ms/step - loss: 0.3736 - accuracy: 0.8391 - val_loss: 0.3718 - val_accuracy: 0.8401\n",
      "Epoch 63/600\n",
      "411/411 [==============================] - 1s 3ms/step - loss: 0.3714 - accuracy: 0.8398 - val_loss: 0.3715 - val_accuracy: 0.8397\n",
      "Epoch 64/600\n",
      "411/411 [==============================] - 1s 3ms/step - loss: 0.3721 - accuracy: 0.8403 - val_loss: 0.3763 - val_accuracy: 0.8368\n",
      "Epoch 65/600\n",
      "411/411 [==============================] - 1s 3ms/step - loss: 0.3736 - accuracy: 0.8394 - val_loss: 0.3718 - val_accuracy: 0.8391\n",
      "Epoch 66/600\n",
      "411/411 [==============================] - 1s 2ms/step - loss: 0.3753 - accuracy: 0.8383 - val_loss: 0.3714 - val_accuracy: 0.8394\n",
      "Epoch 67/600\n",
      "411/411 [==============================] - 1s 3ms/step - loss: 0.3735 - accuracy: 0.8394 - val_loss: 0.3700 - val_accuracy: 0.8405\n",
      "Epoch 68/600\n",
      "411/411 [==============================] - 1s 3ms/step - loss: 0.3730 - accuracy: 0.8380 - val_loss: 0.3711 - val_accuracy: 0.8400\n",
      "Epoch 69/600\n",
      "411/411 [==============================] - 1s 3ms/step - loss: 0.3722 - accuracy: 0.8398 - val_loss: 0.3701 - val_accuracy: 0.8402\n",
      "Epoch 70/600\n",
      "411/411 [==============================] - 1s 2ms/step - loss: 0.3721 - accuracy: 0.8397 - val_loss: 0.3721 - val_accuracy: 0.8392\n",
      "Epoch 71/600\n",
      "411/411 [==============================] - 1s 2ms/step - loss: 0.3720 - accuracy: 0.8394 - val_loss: 0.3707 - val_accuracy: 0.8404\n",
      "Epoch 72/600\n",
      "411/411 [==============================] - 1s 3ms/step - loss: 0.3726 - accuracy: 0.8392 - val_loss: 0.3697 - val_accuracy: 0.8402\n",
      "Epoch 73/600\n",
      "411/411 [==============================] - 1s 3ms/step - loss: 0.3730 - accuracy: 0.8396 - val_loss: 0.3719 - val_accuracy: 0.8388\n",
      "Epoch 74/600\n",
      "411/411 [==============================] - 1s 3ms/step - loss: 0.3711 - accuracy: 0.8398 - val_loss: 0.3695 - val_accuracy: 0.8410\n",
      "Epoch 75/600\n",
      "411/411 [==============================] - 1s 3ms/step - loss: 0.3726 - accuracy: 0.8396 - val_loss: 0.3723 - val_accuracy: 0.8385\n",
      "Epoch 76/600\n",
      "411/411 [==============================] - 1s 3ms/step - loss: 0.3699 - accuracy: 0.8402 - val_loss: 0.3693 - val_accuracy: 0.8409\n",
      "Epoch 77/600\n",
      "411/411 [==============================] - 1s 3ms/step - loss: 0.3706 - accuracy: 0.8400 - val_loss: 0.3700 - val_accuracy: 0.8404\n",
      "Epoch 78/600\n",
      "411/411 [==============================] - 1s 3ms/step - loss: 0.3735 - accuracy: 0.8394 - val_loss: 0.3723 - val_accuracy: 0.8391\n",
      "Epoch 79/600\n",
      "411/411 [==============================] - 1s 3ms/step - loss: 0.3725 - accuracy: 0.8404 - val_loss: 0.3704 - val_accuracy: 0.8410\n",
      "Epoch 80/600\n",
      "411/411 [==============================] - 1s 3ms/step - loss: 0.3749 - accuracy: 0.8384 - val_loss: 0.3711 - val_accuracy: 0.8396\n",
      "Epoch 81/600\n",
      "411/411 [==============================] - 1s 3ms/step - loss: 0.3722 - accuracy: 0.8400 - val_loss: 0.3712 - val_accuracy: 0.8396\n",
      "Epoch 82/600\n",
      "411/411 [==============================] - 1s 3ms/step - loss: 0.3724 - accuracy: 0.8385 - val_loss: 0.3733 - val_accuracy: 0.8385\n",
      "Epoch 83/600\n",
      "411/411 [==============================] - 1s 3ms/step - loss: 0.3699 - accuracy: 0.8411 - val_loss: 0.3719 - val_accuracy: 0.8401\n",
      "Epoch 84/600\n",
      "411/411 [==============================] - 1s 2ms/step - loss: 0.3720 - accuracy: 0.8401 - val_loss: 0.3714 - val_accuracy: 0.8396\n",
      "Epoch 85/600\n",
      "411/411 [==============================] - 1s 2ms/step - loss: 0.3730 - accuracy: 0.8391 - val_loss: 0.3699 - val_accuracy: 0.8411\n",
      "Epoch 86/600\n",
      "411/411 [==============================] - 1s 2ms/step - loss: 0.3723 - accuracy: 0.8401 - val_loss: 0.3684 - val_accuracy: 0.8408\n",
      "Epoch 87/600\n",
      "411/411 [==============================] - 1s 3ms/step - loss: 0.3704 - accuracy: 0.8411 - val_loss: 0.3705 - val_accuracy: 0.8412\n",
      "Epoch 88/600\n",
      "411/411 [==============================] - 1s 3ms/step - loss: 0.3730 - accuracy: 0.8387 - val_loss: 0.3690 - val_accuracy: 0.8405\n",
      "Epoch 89/600\n",
      "411/411 [==============================] - 1s 3ms/step - loss: 0.3692 - accuracy: 0.8409 - val_loss: 0.3688 - val_accuracy: 0.8414\n",
      "Epoch 90/600\n",
      "411/411 [==============================] - 1s 3ms/step - loss: 0.3730 - accuracy: 0.8392 - val_loss: 0.3747 - val_accuracy: 0.8371\n",
      "Epoch 91/600\n",
      "411/411 [==============================] - 1s 3ms/step - loss: 0.3723 - accuracy: 0.8404 - val_loss: 0.3690 - val_accuracy: 0.8411\n",
      "Epoch 92/600\n",
      "411/411 [==============================] - 1s 2ms/step - loss: 0.3698 - accuracy: 0.8408 - val_loss: 0.3738 - val_accuracy: 0.8402\n",
      "Epoch 93/600\n",
      "411/411 [==============================] - 1s 2ms/step - loss: 0.3720 - accuracy: 0.8393 - val_loss: 0.3731 - val_accuracy: 0.8394\n",
      "Epoch 94/600\n",
      "411/411 [==============================] - 1s 3ms/step - loss: 0.3702 - accuracy: 0.8398 - val_loss: 0.3694 - val_accuracy: 0.8411\n",
      "Epoch 95/600\n",
      "411/411 [==============================] - 1s 3ms/step - loss: 0.3698 - accuracy: 0.8403 - val_loss: 0.3690 - val_accuracy: 0.8402\n",
      "Epoch 96/600\n",
      "411/411 [==============================] - 1s 3ms/step - loss: 0.3726 - accuracy: 0.8391 - val_loss: 0.3696 - val_accuracy: 0.8411\n",
      "Epoch 97/600\n",
      "411/411 [==============================] - 1s 3ms/step - loss: 0.3720 - accuracy: 0.8395 - val_loss: 0.3699 - val_accuracy: 0.8401\n",
      "Epoch 98/600\n",
      "411/411 [==============================] - 1s 2ms/step - loss: 0.3708 - accuracy: 0.8411 - val_loss: 0.3687 - val_accuracy: 0.8413\n",
      "Epoch 99/600\n",
      "411/411 [==============================] - 1s 2ms/step - loss: 0.3699 - accuracy: 0.8417 - val_loss: 0.3681 - val_accuracy: 0.8416\n",
      "Epoch 100/600\n",
      "411/411 [==============================] - 1s 2ms/step - loss: 0.3695 - accuracy: 0.8412 - val_loss: 0.3682 - val_accuracy: 0.8412\n",
      "Epoch 101/600\n",
      "411/411 [==============================] - 1s 2ms/step - loss: 0.3682 - accuracy: 0.8409 - val_loss: 0.3708 - val_accuracy: 0.8392\n",
      "Epoch 102/600\n",
      "411/411 [==============================] - 1s 3ms/step - loss: 0.3728 - accuracy: 0.8397 - val_loss: 0.3684 - val_accuracy: 0.8412\n",
      "Epoch 103/600\n",
      "411/411 [==============================] - 1s 3ms/step - loss: 0.3693 - accuracy: 0.8413 - val_loss: 0.3695 - val_accuracy: 0.8402\n",
      "Epoch 104/600\n",
      "411/411 [==============================] - 1s 3ms/step - loss: 0.3695 - accuracy: 0.8413 - val_loss: 0.3687 - val_accuracy: 0.8417\n",
      "Epoch 105/600\n",
      "411/411 [==============================] - 1s 3ms/step - loss: 0.3681 - accuracy: 0.8416 - val_loss: 0.3687 - val_accuracy: 0.8413\n",
      "Epoch 106/600\n",
      "411/411 [==============================] - 1s 2ms/step - loss: 0.3721 - accuracy: 0.8392 - val_loss: 0.3684 - val_accuracy: 0.8414\n",
      "Epoch 107/600\n",
      "411/411 [==============================] - 1s 3ms/step - loss: 0.3684 - accuracy: 0.8414 - val_loss: 0.3711 - val_accuracy: 0.8412\n",
      "Epoch 108/600\n",
      "411/411 [==============================] - 1s 2ms/step - loss: 0.3712 - accuracy: 0.8404 - val_loss: 0.3681 - val_accuracy: 0.8419\n",
      "Epoch 109/600\n",
      "411/411 [==============================] - 1s 3ms/step - loss: 0.3709 - accuracy: 0.8399 - val_loss: 0.3715 - val_accuracy: 0.8385\n",
      "Epoch 110/600\n",
      "411/411 [==============================] - 1s 2ms/step - loss: 0.3699 - accuracy: 0.8399 - val_loss: 0.3682 - val_accuracy: 0.8415\n",
      "Epoch 111/600\n",
      "411/411 [==============================] - 1s 2ms/step - loss: 0.3662 - accuracy: 0.8430 - val_loss: 0.3740 - val_accuracy: 0.8393\n",
      "Epoch 112/600\n",
      "411/411 [==============================] - 1s 2ms/step - loss: 0.3698 - accuracy: 0.8400 - val_loss: 0.3692 - val_accuracy: 0.8420\n",
      "Epoch 113/600\n",
      "411/411 [==============================] - 1s 2ms/step - loss: 0.3700 - accuracy: 0.8402 - val_loss: 0.3696 - val_accuracy: 0.8413\n",
      "Epoch 114/600\n",
      "411/411 [==============================] - 1s 2ms/step - loss: 0.3698 - accuracy: 0.8403 - val_loss: 0.3721 - val_accuracy: 0.8407\n",
      "Epoch 00114: early stopping\n"
     ]
    },
    {
     "data": {
      "text/plain": [
       "<tensorflow.python.keras.callbacks.History at 0x2458cd70910>"
      ]
     },
     "execution_count": 81,
     "metadata": {},
     "output_type": "execute_result"
    }
   ],
   "source": [
    "early_stop = EarlyStopping(monitor=\"val_loss\", mode=\"min\", verbose=1, patience = 15)\n",
    "model.fit(x=X_train, y=y_train, epochs=600,batch_size=512, validation_data=(X_test, y_test), verbose=1, callbacks=[early_stop])"
   ]
  },
  {
   "cell_type": "code",
   "execution_count": 82,
   "metadata": {},
   "outputs": [],
   "source": [
    "model_loss = pd.DataFrame(model.history.history)"
   ]
  },
  {
   "cell_type": "code",
   "execution_count": 83,
   "metadata": {},
   "outputs": [
    {
     "data": {
      "text/plain": [
       "<AxesSubplot:>"
      ]
     },
     "execution_count": 83,
     "metadata": {},
     "output_type": "execute_result"
    },
    {
     "data": {
      "image/png": "[encoded data removed]",
      "text/plain": [
       "<Figure size 432x288 with 1 Axes>"
      ]
     },
     "metadata": {},
     "output_type": "display_data"
    }
   ],
   "source": [
    "model_loss.plot()"
   ]
  },
  {
   "cell_type": "code",
   "execution_count": 85,
   "metadata": {},
   "outputs": [
    {
     "name": "stdout",
     "output_type": "stream",
     "text": [
      "0.87663\n"
     ]
    }
   ],
   "source": [
    "y_pred = model.predict(X_test) # This grabs the positive class prediction\n",
    "score = roc_auc_score(y_test, y_pred)\n",
    "print(f'{score:0.5f}') "
   ]
  },
  {
   "cell_type": "code",
   "execution_count": null,
   "metadata": {},
   "outputs": [],
   "source": []
  }
 ],
 "metadata": {
  "kernelspec": {
   "display_name": "Python 3",
   "language": "python",
   "name": "python3"
  },
  "language_info": {
   "codemirror_mode": {
    "name": "ipython",
    "version": 3
   },
   "file_extension": ".py",
   "mimetype": "text/x-python",
   "name": "python",
   "nbconvert_exporter": "python",
   "pygments_lexer": "ipython3",
   "version": "3.8.5"
  }
 },
 "nbformat": 4,
 "nbformat_minor": 4
}
